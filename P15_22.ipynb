{
 "cells": [
  {
   "cell_type": "code",
   "execution_count": 1,
   "id": "27e39f05",
   "metadata": {},
   "outputs": [],
   "source": [
    "import matplotlib.pyplot as plt\n",
    "import matplotlib.colors as col\n",
    "from scipy.stats import linregress\n",
    "from skimage.util.shape import view_as_blocks\n",
    "from matplotlib import cm\n",
    "import itertools\n",
    "import numpy as np\n",
    "import math\n",
    "import random\n",
    "colors = [\"#0F0C21\", \"#F7FF00\",\"#00B6FF\"]\n",
    "cmap1 = col.LinearSegmentedColormap.from_list(\"mycmap\", colors)"
   ]
  },
  {
   "cell_type": "markdown",
   "id": "5d09ed56",
   "metadata": {},
   "source": [
    "## Problema 15"
   ]
  },
  {
   "cell_type": "code",
   "execution_count": 2,
   "id": "f53abf58",
   "metadata": {},
   "outputs": [],
   "source": [
    "N=64\n",
    "M=-np.ones((N,N),int) #-1 es nada, 0 es amarillo, 1 es celeste"
   ]
  },
  {
   "cell_type": "code",
   "execution_count": 3,
   "id": "01204618",
   "metadata": {},
   "outputs": [],
   "source": [
    "def Plot(Ma): #plotea la matriz\n",
    "    plt.style.use('default')\n",
    "    plt.figure(figsize = (8,8))\n",
    "    plt.imshow(Ma,cmap=cmap1,vmin=-1,vmax=1 ,interpolation='nearest')\n",
    "    plt.show() \n",
    "\n",
    "def GetNumbers(A,D,tol,N): #crea el array Nk\n",
    "    if ((N & (N-1) == 0) and N != 0):\n",
    "        s=int(math.log2(N//2))\n",
    "        if (2**(s*D)<A) and (N*N*2**(s*(D-2))>A):\n",
    "            Check=True\n",
    "            while Check:\n",
    "                Nu=[int(np.random.poisson(lam=A*2**(-i*D))) for i in range(s+1)]\n",
    "                Nu[0]=A\n",
    "                if (Nu[s]>1) and (Nu[s]<=4):\n",
    "                    Check=False\n",
    "                    NNU=[-math.log2(Nu[i]+(Nu[i]==0)) for i in range(len(Nu))]\n",
    "                    Stats=linregress(np.linspace(0,s,s+1), NNU)\n",
    "                    if abs(D-Stats[0])>tol:\n",
    "                        Check=True\n",
    "                else:\n",
    "                    Check=True\n",
    "                for i in range(s):\n",
    "                    if (Nu[i]<Nu[i+1]) or (Nu[i]>=4*Nu[i+1]):\n",
    "                        Check=True\n",
    "            return Nu,Stats[0]\n",
    "\n",
    "        else:\n",
    "            raise Exception(\"No se puede encontrar condición inicial para esa Área y Dimensión\")\n",
    "    else:\n",
    "        raise Exception(\"El tamaño debe ser potencia de 2\")\n",
    "def MinMax(D,N): #devuelve Amin y Amax\n",
    "    s=int(math.log2(N//2))\n",
    "    print([2**(s*D),N*N*2**(s*(D-2))])\n",
    "def Ocuppation(Ma,k,N): #Básicamente devuelve la cantidad de cajas ocupadas (con cajas de largo k)\n",
    "    Lar=N//k\n",
    "    Cant=N//(2**k)\n",
    "    B = view_as_blocks(Ma, block_shape=(Cant, Cant))\n",
    "    Ocup = [np.unique(B[i][j]) for i,j in itertools.product(range(len(B)), range(len(B)))]\n",
    "    O = 0\n",
    "    for i in range(len(Ocup)):\n",
    "        if (not np.all(Ocup[i])):\n",
    "            O=O+1\n",
    "    return O\n",
    "def Structurize1(Ma,A,NuA,N): #crea el patrón dada un área y un vector Nk\n",
    "    tries=1\n",
    "    fila=0\n",
    "    s=len(NuA)\n",
    "    posibA = [np.array([x, y]) for x in range(N) for y in range(N)]\n",
    "    while (fila<A):\n",
    "        ij=posibA.pop(random.randrange(len(posibA)-1))\n",
    "        i=ij[0]\n",
    "        j=ij[1]\n",
    "        prev=Ma[i][j]\n",
    "        if (prev!=0):\n",
    "            Ma[i][j]=0\n",
    "            che=[Ocuppation(Ma,1+k,N)>NuA[s-k-1] for k in range(s-1)]\n",
    "            if np.any(che):\n",
    "                Ma[i][j]=prev\n",
    "            else:\n",
    "                fila=fila+1\n",
    "        if (len(posibA)<5):\n",
    "            for i in range(N):\n",
    "                for j in range(N):\n",
    "                    Ma[i][j]=-1\n",
    "            fila=0\n",
    "            posibA = [np.array([x, y]) for x in range(N) for y in range(N)]\n",
    "            tries=tries+1\n",
    "    return tries\n",
    "def Structurize2(Ma,A,B,NuA,NuB,N): #crea el patrón doble dadas dos áreas y dos vectores Nk\n",
    "    tries=1\n",
    "    fila=0\n",
    "    filb=0\n",
    "    s=len(NuA)\n",
    "    posibA = [np.array([x, y]) for x in range(N) for y in range(N)]\n",
    "    posibB = [np.array([x, y]) for x in range(N) for y in range(N)]\n",
    "    while (fila!=A or filb!=B):\n",
    "        if (fila<A):\n",
    "            ij=posibA.pop(random.randrange(len(posibA)-1))\n",
    "            i=ij[0]\n",
    "            j=ij[1]\n",
    "            prev=Ma[i][j]\n",
    "            if (prev==-1):\n",
    "                Ma[i][j]=0\n",
    "                che=[Ocuppation(Ma,1+k,N)>NuA[s-k-1] for k in range(s-1)]\n",
    "                if np.any(che):\n",
    "                    Ma[i][j]=prev\n",
    "                else:\n",
    "                    fila=fila+1\n",
    "        if (filb<B):\n",
    "            ij=posibB.pop(random.randrange(len(posibB)-1))\n",
    "            i=ij[0]\n",
    "            j=ij[1]\n",
    "            prev=Ma[i][j]\n",
    "            if (prev==-1):\n",
    "                Ma[i][j]=1\n",
    "                che=[Ocuppation(Ma-1,1+k,N)>NuB[s-k-1] for k in range(s-1)]\n",
    "                if np.any(che):\n",
    "                    Ma[i][j]=prev\n",
    "                else:\n",
    "                    filb=filb+1\n",
    "        if (len(posibA)<5) or (len(posibB)<5):\n",
    "            for i in range(N):\n",
    "                for j in range(N):\n",
    "                    Ma[i][j]=-1\n",
    "            fila=0\n",
    "            filb=0\n",
    "            posibA = [np.array([x, y]) for x in range(N) for y in range(N)]\n",
    "            posibB = [np.array([x, y]) for x in range(N) for y in range(N)]\n",
    "            tries=tries+1\n",
    "    return tries\n",
    "\n",
    "def Count2(Ma): #cuenta celdas\n",
    "    Celestes=0\n",
    "    Amarillos=0\n",
    "    Apaticos=0\n",
    "    for i in range(len(Ma)):\n",
    "        for j in range(len(Ma)):\n",
    "            if Ma[i,j]!=-1:\n",
    "                if Ma[i,j]==0:\n",
    "                    Amarillos+=1\n",
    "                if Ma[i,j]==1:\n",
    "                    Celestes+=1\n",
    "            else:\n",
    "                Apaticos+=1\n",
    "    print(\"Cel=\",Celestes,\"Ama=\",Amarillos,\"Apatics=\",Apaticos,\"Counted=\",Celestes+Amarillos+Apaticos,\"L*L=\",len(Ma)*len(Ma))"
   ]
  },
  {
   "cell_type": "code",
   "execution_count": 5,
   "id": "28ec641d",
   "metadata": {},
   "outputs": [
    {
     "name": "stdout",
     "output_type": "stream",
     "text": [
      "[215.2694823049509, 861.0779292198037]\n"
     ]
    }
   ],
   "source": [
    "MinMax(1.55,N) #propongo dim=1.55\n",
    "NuA,dim = GetNumbers(614,1.55,0.02,N)  #con area 614=N*N*0.15 y a lo sumo 0.02 de error"
   ]
  },
  {
   "cell_type": "code",
   "execution_count": 6,
   "id": "3c7f53ee",
   "metadata": {},
   "outputs": [
    {
     "data": {
      "text/plain": [
       "[614, 198, 66, 25, 7, 3]"
      ]
     },
     "execution_count": 6,
     "metadata": {},
     "output_type": "execute_result"
    }
   ],
   "source": [
    "NuA #encontramos estos números Nk,"
   ]
  },
  {
   "cell_type": "code",
   "execution_count": 7,
   "id": "5f8f0884",
   "metadata": {},
   "outputs": [
    {
     "data": {
      "text/plain": [
       "1.5500629927684244"
      ]
     },
     "execution_count": 7,
     "metadata": {},
     "output_type": "execute_result"
    }
   ],
   "source": [
    "dim # que tienen dimensión:"
   ]
  },
  {
   "cell_type": "code",
   "execution_count": 8,
   "id": "0351c4b0",
   "metadata": {},
   "outputs": [
    {
     "name": "stdout",
     "output_type": "stream",
     "text": [
      "CPU times: total: 39.5 s\n",
      "Wall time: 39.6 s\n"
     ]
    },
    {
     "data": {
      "text/plain": [
       "1"
      ]
     },
     "execution_count": 8,
     "metadata": {},
     "output_type": "execute_result"
    }
   ],
   "source": [
    "%%time\n",
    "M=-np.ones((N,N),int)\n",
    "tries = Structurize1(M,NuA[0],NuA,N) #esto crea el patron\n",
    "tries"
   ]
  },
  {
   "cell_type": "code",
   "execution_count": 9,
   "id": "07f50a4a",
   "metadata": {},
   "outputs": [
    {
     "data": {
      "image/png": "[encoded data removed]",
      "text/plain": [
       "<Figure size 800x800 with 1 Axes>"
      ]
     },
     "metadata": {},
     "output_type": "display_data"
    }
   ],
   "source": [
    "Plot(M) #ploteo"
   ]
  },
  {
   "cell_type": "code",
   "execution_count": 10,
   "id": "6b267aa4",
   "metadata": {},
   "outputs": [
    {
     "name": "stdout",
     "output_type": "stream",
     "text": [
      "[614, 198, 66, 25, 7, 3]\n",
      "Cel= 0 Ama= 614 Apatics= 3482 Counted= 4096 L*L= 4096\n"
     ]
    }
   ],
   "source": [
    "#midamos que esté bien\n",
    "Nk=[Ocuppation(M,7-i,N) for i in range(1,7)]\n",
    "print(Nk) #reproduce el Nk que le pedí exactamente, entonces sé que tiene la dimensión que requería\n",
    "Count2(M) #el área tamien debería dar:"
   ]
  },
  {
   "cell_type": "markdown",
   "id": "5342544d",
   "metadata": {},
   "source": [
    "## Problema 22"
   ]
  },
  {
   "cell_type": "code",
   "execution_count": 11,
   "id": "93e4d7c6",
   "metadata": {},
   "outputs": [
    {
     "name": "stdout",
     "output_type": "stream",
     "text": [
      "[304.4370214406966, 1217.748085762786]\n"
     ]
    },
    {
     "data": {
      "text/plain": [
       "1.6403650425603054"
      ]
     },
     "execution_count": 11,
     "metadata": {},
     "output_type": "execute_result"
    }
   ],
   "source": [
    "MinMax(1.65,N)\n",
    "NuB,dim = GetNumbers(614,1.65,0.02,N) #creo los Nk para el celeste\n",
    "dim #con esta dim"
   ]
  },
  {
   "cell_type": "code",
   "execution_count": 12,
   "id": "69ae8c71",
   "metadata": {},
   "outputs": [
    {
     "data": {
      "text/plain": [
       "[614, 186, 60, 16, 7, 2]"
      ]
     },
     "execution_count": 12,
     "metadata": {},
     "output_type": "execute_result"
    }
   ],
   "source": [
    "NuB #estos son los numeros"
   ]
  },
  {
   "cell_type": "code",
   "execution_count": 13,
   "id": "878ec5c6",
   "metadata": {},
   "outputs": [
    {
     "name": "stdout",
     "output_type": "stream",
     "text": [
      "CPU times: total: 1min 17s\n",
      "Wall time: 1min 17s\n"
     ]
    },
    {
     "data": {
      "text/plain": [
       "1"
      ]
     },
     "execution_count": 13,
     "metadata": {},
     "output_type": "execute_result"
    }
   ],
   "source": [
    "%%time\n",
    "M=-np.ones((N,N),int)\n",
    "tries = Structurize2(M,NuA[0],NuB[0],NuA,NuB,N) #creo el patron doble\n",
    "tries"
   ]
  },
  {
   "cell_type": "code",
   "execution_count": 14,
   "id": "94bc059f",
   "metadata": {},
   "outputs": [
    {
     "data": {
      "image/png": "[encoded data removed]",
      "text/plain": [
       "<Figure size 800x800 with 1 Axes>"
      ]
     },
     "metadata": {},
     "output_type": "display_data"
    }
   ],
   "source": [
    "Plot(M) #plot"
   ]
  },
  {
   "cell_type": "code",
   "execution_count": 15,
   "id": "6901269a",
   "metadata": {},
   "outputs": [
    {
     "name": "stdout",
     "output_type": "stream",
     "text": [
      "Cel= 614 Ama= 614 Apatics= 2868 Counted= 4096 L*L= 4096\n"
     ]
    }
   ],
   "source": [
    "Count2(M) #midamos"
   ]
  },
  {
   "cell_type": "code",
   "execution_count": 16,
   "id": "c7784d42",
   "metadata": {},
   "outputs": [
    {
     "name": "stdout",
     "output_type": "stream",
     "text": [
      "[614, 198, 66, 25, 7, 3]\n"
     ]
    }
   ],
   "source": [
    "NkAma=[Ocuppation(M,7-i,N) for i in range(1,7)] #amarillo\n",
    "print(NkAma) #reproduce el Nk que le pedí exactamente, entonces sé que tiene la dimensión que requería"
   ]
  },
  {
   "cell_type": "code",
   "execution_count": 17,
   "id": "cef038a0",
   "metadata": {},
   "outputs": [
    {
     "name": "stdout",
     "output_type": "stream",
     "text": [
      "[614, 186, 60, 16, 7, 2]\n"
     ]
    }
   ],
   "source": [
    "NkCel=[Ocuppation(M-1,7-i,N) for i in range(1,7)] #celeste\n",
    "print(NkCel) #reproduce el Nk que le pedí exactamente, entonces sé que tiene la dimensión que requería"
   ]
  },
  {
   "cell_type": "code",
   "execution_count": null,
   "id": "fe94c17a",
   "metadata": {},
   "outputs": [],
   "source": []
  }
 ],
 "metadata": {
  "kernelspec": {
   "display_name": "Python 3 (ipykernel)",
   "language": "python",
   "name": "python3"
  },
  "language_info": {
   "codemirror_mode": {
    "name": "ipython",
    "version": 3
   },
   "file_extension": ".py",
   "mimetype": "text/x-python",
   "name": "python",
   "nbconvert_exporter": "python",
   "pygments_lexer": "ipython3",
   "version": "3.8.5"
  }
 },
 "nbformat": 4,
 "nbformat_minor": 5
}
