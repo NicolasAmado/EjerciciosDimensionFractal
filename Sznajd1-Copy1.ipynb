{
 "cells": [
  {
   "cell_type": "code",
   "execution_count": 1,
   "id": "cutting-window",
   "metadata": {},
   "outputs": [],
   "source": [
    "import matplotlib.pyplot as plt\n",
    "import matplotlib.colors as col\n",
    "from scipy.stats import linregress\n",
    "from skimage.util.shape import view_as_blocks\n",
    "import itertools\n",
    "from matplotlib import cm\n",
    "from matplotlib.animation import FuncAnimation, PillowWriter \n",
    "from tqdm import trange\n",
    "import numpy as np\n",
    "import math\n",
    "import random\n",
    "colors = [\"#0F0C21\", \"#F7FF00\",\"#00B6FF\"]\n",
    "cmap1 = col.LinearSegmentedColormap.from_list(\"mycmap\", colors)"
   ]
  },
  {
   "cell_type": "code",
   "execution_count": 2,
   "id": "raised-adaptation",
   "metadata": {},
   "outputs": [],
   "source": [
    "N=64\n",
    "M=-np.ones((N,N),int)"
   ]
  },
  {
   "cell_type": "code",
   "execution_count": 3,
   "id": "private-montreal",
   "metadata": {},
   "outputs": [],
   "source": [
    "allmoves=[[-2,0],[2,0],[0,-2],[0,2],[-1,-1],[-1,1],[1,-1],[1,1]]\n",
    "def CheckSecondNeigh(Ma,point):\n",
    "    Candidates=np.array(point)+np.array(allmoves)\n",
    "    Candidates = Candidates[((Candidates>=0)&(Candidates<len(Ma))).all(axis=1)]\n",
    "\n",
    "    Choices = np.array([choice for choice in Candidates if Ma[choice[0],choice[1]]>-1])\n",
    "    if Choices.size !=0:\n",
    "        return random.choice(Choices)\n",
    "    else:\n",
    "        return None\n",
    "            \n",
    "def Plot(Ma):\n",
    "    plt.style.use('default')\n",
    "    plt.figure(figsize = (8,8))\n",
    "    plt.imshow(Ma,cmap=cmap1,vmin=-1,vmax=1 ,interpolation='nearest')\n",
    "    plt.show()\n",
    "    "
   ]
  },
  {
   "cell_type": "code",
   "execution_count": 4,
   "id": "4d576cc0",
   "metadata": {},
   "outputs": [],
   "source": [
    "def GetNumbers(A,D,tol,N):\n",
    "    if ((N & (N-1) == 0) and N != 0):\n",
    "        s=int(math.log2(N//2))\n",
    "        if (2**(s*D)<A) and (N*N*2**(s*(D-2))>A):\n",
    "            Check=True\n",
    "            while Check:\n",
    "                Nu=[int(np.random.poisson(lam=A*2**(-i*D))) for i in range(s+1)]\n",
    "                Nu[0]=A\n",
    "                if (Nu[s]>1) and (Nu[s]<=4):\n",
    "                    Check=False\n",
    "                    NNU=[-math.log2(Nu[i]+(Nu[i]==0)) for i in range(len(Nu))]\n",
    "                    Stats=linregress(np.linspace(0,s,s+1), NNU)\n",
    "                    if abs(D-Stats[0])>tol:\n",
    "                        Check=True\n",
    "                else:\n",
    "                    Check=True\n",
    "                for i in range(s):\n",
    "                    if (Nu[i]<Nu[i+1]) or (Nu[i]>=4*Nu[i+1]):\n",
    "                        Check=True\n",
    "            return Nu,Stats[0]\n",
    "\n",
    "        else:\n",
    "            raise Exception(\"No se puede encontrar condición inicial para esa Área y Dimensión\")\n",
    "    else:\n",
    "        raise Exception(\"El tamaño debe ser potencia de 2\")\n",
    "def MinMax(D,N):\n",
    "    s=int(math.log2(N//2))\n",
    "    print([2**(s*D),N*N*2**(s*(D-2))])\n",
    "def Ocuppation(Ma,k,N):\n",
    "    Lar=N//k\n",
    "    Cant=N//(2**k)\n",
    "    B = view_as_blocks(Ma, block_shape=(Cant, Cant))\n",
    "    Ocup = [np.unique(B[i][j]) for i,j in itertools.product(range(len(B)), range(len(B)))]\n",
    "    O = 0\n",
    "    for i in range(len(Ocup)):\n",
    "        if (not np.all(Ocup[i])):\n",
    "            O=O+1\n",
    "    return O\n",
    "def Structurize(Ma,A,B,NuA,NuB,N):\n",
    "    tries=1\n",
    "    fila=0\n",
    "    filb=0\n",
    "    s=len(NuA)\n",
    "    posibA = [np.array([x, y]) for x in range(N) for y in range(N)]\n",
    "    posibB = [np.array([x, y]) for x in range(N) for y in range(N)]\n",
    "    while (fila!=A or filb!=B):\n",
    "        if (fila<A):\n",
    "            ij=posibA.pop(random.randrange(len(posibA)-1))\n",
    "            i=ij[0]\n",
    "            j=ij[1]\n",
    "            prev=Ma[i][j]\n",
    "            if (prev==-1):\n",
    "                Ma[i][j]=0\n",
    "                che=[Ocuppation(Ma,1+k,N)>NuA[s-k-1] for k in range(s-1)]\n",
    "                if np.any(che):\n",
    "                    Ma[i][j]=prev\n",
    "                else:\n",
    "                    fila=fila+1\n",
    "        if (filb<B):\n",
    "            ij=posibB.pop(random.randrange(len(posibB)-1))\n",
    "            i=ij[0]\n",
    "            j=ij[1]\n",
    "            prev=Ma[i][j]\n",
    "            if (prev==-1):\n",
    "                Ma[i][j]=1\n",
    "                che=[Ocuppation(Ma-1,1+k,N)>NuB[s-k-1] for k in range(s-1)]\n",
    "                if np.any(che):\n",
    "                    Ma[i][j]=prev\n",
    "                else:\n",
    "                    filb=filb+1\n",
    "        if (len(posibA)<5) or (len(posibB)<5):\n",
    "            for i in range(N):\n",
    "                for j in range(N):\n",
    "                    Ma[i][j]=-1\n",
    "            fila=0\n",
    "            filb=0\n",
    "            posibA = [np.array([x, y]) for x in range(N) for y in range(N)]\n",
    "            posibB = [np.array([x, y]) for x in range(N) for y in range(N)]\n",
    "            tries=tries+1\n",
    "    return tries\n",
    "\n",
    "def Count2(Ma):\n",
    "    Celestes=0\n",
    "    Amarillos=0\n",
    "    Apaticos=0\n",
    "    for i in range(len(Ma)):\n",
    "        for j in range(len(Ma)):\n",
    "            if Ma[i,j]!=-1:\n",
    "                if Ma[i,j]==0:\n",
    "                    Amarillos+=1\n",
    "                if Ma[i,j]==1:\n",
    "                    Celestes+=1\n",
    "            else:\n",
    "                Apaticos+=1\n",
    "    print(\"Cel=\",Celestes,\"Ama=\",Amarillos,\"Apatics=\",Apaticos,\"Counted=\",Celestes+Amarillos+Apaticos,\"L*L=\",len(Ma)*len(Ma))"
   ]
  },
  {
   "cell_type": "code",
   "execution_count": 5,
   "id": "49b303e2",
   "metadata": {},
   "outputs": [
    {
     "name": "stdout",
     "output_type": "stream",
     "text": [
      "[215.2694823049509, 861.0779292198037]\n"
     ]
    },
    {
     "data": {
      "text/plain": [
       "1.5421645643055044"
      ]
     },
     "execution_count": 5,
     "metadata": {},
     "output_type": "execute_result"
    }
   ],
   "source": [
    "MinMax(1.55,N)\n",
    "NuA,dim = GetNumbers(614,1.55,0.02,N)\n",
    "dim"
   ]
  },
  {
   "cell_type": "code",
   "execution_count": 39,
   "id": "519fb829",
   "metadata": {},
   "outputs": [
    {
     "data": {
      "text/plain": [
       "[614, 202, 63, 25, 7, 3]"
      ]
     },
     "execution_count": 39,
     "metadata": {},
     "output_type": "execute_result"
    }
   ],
   "source": [
    "NuA"
   ]
  },
  {
   "cell_type": "code",
   "execution_count": 46,
   "id": "e41136bd",
   "metadata": {},
   "outputs": [
    {
     "name": "stdout",
     "output_type": "stream",
     "text": [
      "[168.89701257893051, 675.5880503157218]\n"
     ]
    },
    {
     "data": {
      "text/plain": [
       "1.4893902537890789"
      ]
     },
     "execution_count": 46,
     "metadata": {},
     "output_type": "execute_result"
    }
   ],
   "source": [
    "MinMax(1.48,N)\n",
    "NuB,dim = GetNumbers(614,1.48,0.02,N)\n",
    "dim"
   ]
  },
  {
   "cell_type": "code",
   "execution_count": 47,
   "id": "1d01e751",
   "metadata": {},
   "outputs": [
    {
     "data": {
      "text/plain": [
       "[614, 222, 73, 27, 8, 4]"
      ]
     },
     "execution_count": 47,
     "metadata": {},
     "output_type": "execute_result"
    }
   ],
   "source": [
    "NuB"
   ]
  },
  {
   "cell_type": "code",
   "execution_count": 58,
   "id": "0ee7a12e",
   "metadata": {},
   "outputs": [
    {
     "name": "stdout",
     "output_type": "stream",
     "text": [
      "CPU times: total: 1min 1s\n",
      "Wall time: 1min 1s\n"
     ]
    },
    {
     "data": {
      "text/plain": [
       "1"
      ]
     },
     "execution_count": 58,
     "metadata": {},
     "output_type": "execute_result"
    }
   ],
   "source": [
    "%%time\n",
    "M=-np.ones((N,N),int)\n",
    "tries = Structurize(M,NuA[0],NuB[0],NuA,NuB,N)\n",
    "tries"
   ]
  },
  {
   "cell_type": "code",
   "execution_count": 59,
   "id": "ba01ba04",
   "metadata": {},
   "outputs": [
    {
     "data": {
      "text/plain": [
       "4"
      ]
     },
     "execution_count": 59,
     "metadata": {},
     "output_type": "execute_result"
    }
   ],
   "source": [
    "Ocuppation(M-1,1,N)"
   ]
  },
  {
   "cell_type": "code",
   "execution_count": 60,
   "id": "0c066ea1",
   "metadata": {},
   "outputs": [
    {
     "data": {
      "image/png": "[encoded data removed]",
      "text/plain": [
       "<Figure size 800x800 with 1 Axes>"
      ]
     },
     "metadata": {},
     "output_type": "display_data"
    }
   ],
   "source": [
    "Plot(M)"
   ]
  },
  {
   "cell_type": "code",
   "execution_count": 61,
   "id": "f87a5e22",
   "metadata": {},
   "outputs": [
    {
     "name": "stdout",
     "output_type": "stream",
     "text": [
      "Cel= 614 Ama= 614 Apatics= 2868 Counted= 4096 L*L= 4096\n"
     ]
    }
   ],
   "source": [
    "Count2(M)"
   ]
  },
  {
   "cell_type": "code",
   "execution_count": 4,
   "id": "5c85aa0e",
   "metadata": {},
   "outputs": [
    {
     "data": {
      "image/png": "[encoded data removed]",
      "text/plain": [
       "<Figure size 576x576 with 1 Axes>"
      ]
     },
     "metadata": {},
     "output_type": "display_data"
    }
   ],
   "source": [
    "x=np.linspace(0,2,80)\n",
    "plt.style.use('fivethirtyeight')\n",
    "fig,ax = plt.subplots(figsize = (8,8))\n",
    "ax.plot(x,2**(5*x))\n",
    "ax.plot(x,64*64*2**(5*(x-2)))\n",
    "ax.hlines(614,0,2)\n",
    "#plt.yscale(\"log\")\n",
    "plt.show()"
   ]
  },
  {
   "cell_type": "code",
   "execution_count": 6,
   "id": "precious-russian",
   "metadata": {},
   "outputs": [],
   "source": [
    "def Randomize(Ma,btyr,apathy):\n",
    "    if btyr<0.0 or btyr>1.0:\n",
    "        raise Exception(\"La razon de celestes a amarillos es un número entre cero y uno.\")\n",
    "    if apathy<0.0 or apathy>1.0:\n",
    "        raise Exception(\"La apatía es un número entre cero y uno.\")\n",
    "    for i in range(len(Ma)):\n",
    "        for j in range(len(Ma)):\n",
    "            a=np.random.rand(1)\n",
    "            if a>apathy:\n",
    "                r=np.random.rand(1)\n",
    "                Ma[i,j]=1 if r<btyr else 0\n",
    "            else:\n",
    "                Ma[i,j]=-1\n",
    "    \n",
    "def SznajdStep(Ma):\n",
    "    #elegir un punto al azar que no sea apático\n",
    "    choice=np.array([np.random.randint(len(Ma)),np.random.randint(len(Ma))])\n",
    "    while Ma[choice[0],choice[1]]==-1:\n",
    "        choice=np.array([np.random.randint(len(Ma)),np.random.randint(len(Ma))])\n",
    "    #elegir un segundo vecino al azar\n",
    "    neig=CheckSecondNeigh(Ma,choice)\n",
    "    #Lo igualo\n",
    "    if not neig is None:\n",
    "        Ma[neig[0],neig[1]]=Ma[choice[0],choice[1]]\n",
    "        \n",
    "def isgreen(Ma,i,j):\n",
    "    apa=0\n",
    "    Test=[Ma[i+1,j]!=Ma[i,j],Ma[i,j+1]!=Ma[i,j],Ma[i-1,j]!=Ma[i,j],Ma[i,j-1]!=Ma[i,j],(Ma[i-1,j-1]==Ma[i,j] or Ma[i-1,j-1]==-1),(Ma[i+1,j-1]==Ma[i,j] or Ma[i+1,j-1]==-1),(Ma[i-1,j+1]==Ma[i,j] or Ma[i-1,j+1]==-1),(Ma[i+1,j+1]==Ma[i,j] or Ma[i+1,j+1]==-1)]\n",
    "    if Ma[i+1,j+1]==-1:\n",
    "        apa+=1\n",
    "    if Ma[i+1,j]==-1:\n",
    "        apa+=1\n",
    "    if Ma[i,j+1]==-1:\n",
    "        apa+=1\n",
    "    if Ma[i-1,j]==-1:\n",
    "        apa+=1\n",
    "    if Ma[i,j-1]==-1:\n",
    "        apa+=1\n",
    "    if Ma[i-1,j-1]==-1:\n",
    "        apa+=1\n",
    "    if Ma[i-1,j+1]==-1:\n",
    "        apa+=1\n",
    "    if Ma[i+1,j-1]==-1:\n",
    "        apa+=1\n",
    "    if apa<4: \n",
    "        #si tengo 3 o menos vecinos apaticos\n",
    "        if sum(Test)>6: #y los vecinos son como deben o a lo sumo uno falla\n",
    "            return True\n",
    "        else:\n",
    "            return False\n",
    "    else: return False\n",
    "    \n",
    "def isgreen2(Ma,i,j):\n",
    "    apa=0\n",
    "    Test=[Ma[i+1,j]!=Ma[i,j],Ma[i,j+1]!=Ma[i,j],Ma[i-1,j]!=Ma[i,j],Ma[i,j-1]!=Ma[i,j]]\n",
    "    if Ma[i+1,j]==-1:\n",
    "        apa+=1\n",
    "    if Ma[i,j+1]==-1:\n",
    "        apa+=1\n",
    "    if Ma[i-1,j]==-1:\n",
    "        apa+=1\n",
    "    if Ma[i,j-1]==-1:\n",
    "        apa+=1\n",
    "    if apa<3: \n",
    "        #si tengo 2 o menos vecinos apaticos\n",
    "        if sum(Test)>3: #y los vecinos son como deben\n",
    "            return True\n",
    "        else:\n",
    "            return False\n",
    "    else: return False\n",
    "        \n",
    "def Count(Ma):\n",
    "    Verdes=0\n",
    "    Celestes=0\n",
    "    Amarillos=0\n",
    "    Apaticos=0\n",
    "    for i in range(1,len(Ma)-1):\n",
    "        for j in range(1,len(Ma)-1):\n",
    "            if Ma[i,j]!=-1:\n",
    "                if isgreen2(Ma,i,j):\n",
    "                    Verdes+=1\n",
    "                else:\n",
    "                    if Ma[i,j]==0:\n",
    "                        Amarillos+=1\n",
    "                    if Ma[i,j]==1:\n",
    "                        Celestes+=1\n",
    "            else:\n",
    "                Apaticos+=1\n",
    "    for i in range(len(Ma)):\n",
    "        if Ma[i,0]!=-1:\n",
    "            if Ma[i,0]==0:\n",
    "                Amarillos+=1\n",
    "            if Ma[i,0]==1:\n",
    "                Celestes+=1\n",
    "        else:\n",
    "            Apaticos+=1\n",
    "        if Ma[i,len(Ma)-1]!=-1:\n",
    "            if Ma[i,len(Ma)-1]==0:\n",
    "                Amarillos+=1\n",
    "            if Ma[i,len(Ma)-1]==1:\n",
    "                Celestes+=1\n",
    "        else:\n",
    "            Apaticos+=1\n",
    "    for j in range(1,len(Ma)-1):\n",
    "        if Ma[0,j]!=-1:\n",
    "            if Ma[0,j]==0:\n",
    "                Amarillos+=1\n",
    "            if Ma[0,j]==1:\n",
    "                Celestes+=1\n",
    "        else:\n",
    "            Apaticos+=1\n",
    "        if Ma[len(Ma)-1,j]!=-1:\n",
    "            if Ma[len(Ma)-1,j]==0:\n",
    "                Amarillos+=1\n",
    "            if Ma[len(Ma)-1,j]==1:\n",
    "                Celestes+=1\n",
    "        else:\n",
    "            Apaticos+=1\n",
    "    return [Verdes,Celestes,Amarillos,Apaticos,Verdes+Celestes+Amarillos+Apaticos,len(Ma)*len(Ma)]\n",
    "\n",
    "def Elect(Ma):\n",
    "    [Verdes,Celestes,Amarillos,Apaticos,Suma,SumaReal]=Count(Ma)\n",
    "    if Verdes>Celestes and Verdes>Amarillos:\n",
    "        return [1,0,0],SumaReal-Apaticos,np.amax([Verdes-Celestes,Verdes-Amarillos])\n",
    "    elif Celestes>Verdes and Celestes>Amarillos:\n",
    "        return [0,1,0],SumaReal-Apaticos,np.amax([Celestes-Verdes,Celestes-Amarillos])\n",
    "    elif Amarillos>Verdes and Celestes<Amarillos:\n",
    "        return [0,0,1],SumaReal-Apaticos,np.amax([Amarillos-Celestes,Amarillos-Verdes])\n",
    "    else:\n",
    "        return [0,0,0],SumaReal-Apaticos,0\n",
    "\n",
    "def RunSznajd(Ma,changetol,checkevery):\n",
    "    #Paro la ejecucion si hubieron menos de 'changetol' cambios en los ultimos 'checkevery' pasos.\n",
    "    i=1\n",
    "    change=1000\n",
    "    M0=Ma.copy()\n",
    "    while change>changetol:\n",
    "        SznajdStep(Ma)\n",
    "        if i%checkevery==0:\n",
    "            change=np.sum(abs(M0-Ma))\n",
    "            M0=Ma.copy()\n",
    "        i+=1\n",
    "    return Ma,i\n",
    "\n",
    "def SznajdStepforHighApathy(Ma,List):\n",
    "    #elegir un punto al azar que no sea apático\n",
    "    choice=random.choice(List)\n",
    "    #elegir un segundo vecino al azar\n",
    "    neig=CheckSecondNeigh(Ma,choice)\n",
    "    #Lo igualo\n",
    "    if not neig is None:\n",
    "        Ma[neig[0],neig[1]]=Ma[choice[0],choice[1]]\n",
    "\n",
    "def RunSznajdStruc(Ma,N,MinIters,changetol,checkevery):\n",
    "    #creo la lista de activos\n",
    "    List=[]\n",
    "    for i in range(N):\n",
    "        for j in range(N):\n",
    "            if Ma[i][j]!=-1:\n",
    "                List.append([i,j])\n",
    "    #si o si hago un mínimo de iteraciones\n",
    "    for _ in range(MinIters):\n",
    "        SznajdStepforHighApathy(Ma,List)\n",
    "    #Paro la ejecucion si hubieron menos de 'changetol' cambios en los ultimos 'checkevery' pasos.\n",
    "    i=1\n",
    "    change=1000\n",
    "    M0=Ma.copy()\n",
    "    while change>changetol:\n",
    "        SznajdStepforHighApathy(Ma,List)\n",
    "        if i%checkevery==0:\n",
    "            change=np.sum(abs(M0-Ma))\n",
    "            M0=Ma.copy()\n",
    "        i+=1\n",
    "    return Ma,i+MinIters"
   ]
  },
  {
   "cell_type": "code",
   "execution_count": 7,
   "id": "damaged-modern",
   "metadata": {},
   "outputs": [],
   "source": [
    "def Movie(Ma,name,fsteps,framess,fpss):\n",
    "        plt.style.use('classic')\n",
    "        fig = plt.figure(figsize = (8,8))\n",
    "        im=plt.imshow(Ma,cmap=cmap1,vmin=-1,vmax=1 ,interpolation='nearest')\n",
    "        def init():\n",
    "            im.set_data(Ma)\n",
    "            return [im]\n",
    "        def animate(i):\n",
    "            for j in range(fsteps):\n",
    "                SznajdStep(Ma)\n",
    "            im.set_array(Ma)\n",
    "            return [im]\n",
    "        ani = FuncAnimation(fig, animate, frames=framess)\n",
    "        writer = PillowWriter(fps=fpss)  \n",
    "        ani.save(name+\".gif\", writer=writer)"
   ]
  },
  {
   "cell_type": "code",
   "execution_count": 43,
   "id": "simple-candidate",
   "metadata": {
    "collapsed": true
   },
   "outputs": [
    {
     "data": {
      "image/png": "[encoded data removed]",
      "text/plain": [
       "<Figure size 800x800 with 1 Axes>"
      ]
     },
     "metadata": {},
     "output_type": "display_data"
    }
   ],
   "source": [
    "Randomize(M,0.5,0.70)\n",
    "Plot(M)"
   ]
  },
  {
   "cell_type": "code",
   "execution_count": 14,
   "id": "5822cdb4",
   "metadata": {
    "collapsed": true
   },
   "outputs": [
    {
     "data": {
      "image/png": "[encoded data removed]",
      "text/plain": [
       "<Figure size 800x800 with 1 Axes>"
      ]
     },
     "metadata": {},
     "output_type": "display_data"
    }
   ],
   "source": [
    "for i in range(10000):\n",
    "    SznajdStep(M)\n",
    "Plot(M)"
   ]
  },
  {
   "cell_type": "code",
   "execution_count": null,
   "id": "mighty-mobile",
   "metadata": {},
   "outputs": [],
   "source": [
    "Movie(M,'structured',100,300,35)"
   ]
  },
  {
   "cell_type": "code",
   "execution_count": 47,
   "id": "worth-aging",
   "metadata": {},
   "outputs": [
    {
     "data": {
      "image/png": "[encoded data removed]",
      "text/plain": [
       "<Figure size 800x800 with 1 Axes>"
      ]
     },
     "metadata": {},
     "output_type": "display_data"
    },
    {
     "name": "stdout",
     "output_type": "stream",
     "text": [
      "3090001\n",
      "CPU times: total: 1min 35s\n",
      "Wall time: 1min 37s\n"
     ]
    }
   ],
   "source": [
    "%%time\n",
    "M,iters=RunSznajdStruc(M,N,50000,1,20000)\n",
    "Plot(M)\n",
    "print(iters)"
   ]
  },
  {
   "cell_type": "code",
   "execution_count": 48,
   "id": "furnished-album",
   "metadata": {},
   "outputs": [
    {
     "data": {
      "text/plain": [
       "[106, 623, 499, 2868, 4096, 4096]"
      ]
     },
     "execution_count": 48,
     "metadata": {},
     "output_type": "execute_result"
    }
   ],
   "source": [
    "Count(M)"
   ]
  },
  {
   "cell_type": "code",
   "execution_count": 49,
   "id": "going-yahoo",
   "metadata": {},
   "outputs": [
    {
     "name": "stdout",
     "output_type": "stream",
     "text": [
      "[0, 1, 0] 1228 517\n"
     ]
    }
   ],
   "source": [
    "Winner,Actives,Winby = Elect(M)\n",
    "print(Winner,Actives,Winby)"
   ]
  },
  {
   "cell_type": "markdown",
   "id": "d4f23c34",
   "metadata": {},
   "source": [
    "## Estructurado"
   ]
  },
  {
   "cell_type": "code",
   "execution_count": 8,
   "id": "79fbc241",
   "metadata": {},
   "outputs": [
    {
     "name": "stdout",
     "output_type": "stream",
     "text": [
      "[362.03867196751236, 1448.1546878700492]\n"
     ]
    }
   ],
   "source": [
    "MinMax(1.7,N)"
   ]
  },
  {
   "cell_type": "code",
   "execution_count": 9,
   "id": "rental-source",
   "metadata": {},
   "outputs": [
    {
     "name": "stderr",
     "output_type": "stream",
     "text": [
      "100%|██████████████████████████████████████████████████████████████████████████████| 6/6 [54:09:12<00:00, 32492.04s/it]"
     ]
    },
    {
     "name": "stdout",
     "output_type": "stream",
     "text": [
      "[[0.335 0.165 0.495]\n",
      " [0.365 0.225 0.41 ]\n",
      " [0.36  0.19  0.45 ]\n",
      " [0.305 0.175 0.52 ]\n",
      " [0.34  0.16  0.5  ]\n",
      " [0.34  0.145 0.515]] [614.21  638.63  635.345 681.375 756.56  724.82 ] [2659001. 3070101. 2857401. 2675101. 3013601. 2863101.] [1.02  1.065 1.085 1.115 1.05  1.125]\n",
      "CPU times: total: 2d 5h 48min 55s\n",
      "Wall time: 2d 6h 9min 12s\n"
     ]
    },
    {
     "name": "stderr",
     "output_type": "stream",
     "text": [
      "\n"
     ]
    }
   ],
   "source": [
    "%%time\n",
    "runs=200\n",
    "Area=int(N*N*0.30)\n",
    "AreaA=int(Area*0.6)\n",
    "AreaC=Area-AreaA\n",
    "Apathy=Area/N*N\n",
    "Winners=[0,0,0]\n",
    "Winbyy=0\n",
    "Time=0\n",
    "MeanTries=0\n",
    "\n",
    "for i in trange(runs):\n",
    "    DA=1.75\n",
    "    DC=1.48\n",
    "    NuA,dimA = GetNumbers(Area,DA,0.02,N)\n",
    "    NuC,dimC = GetNumbers(Area,DC,0.02,N)\n",
    "    M=-np.ones((N,N),int)\n",
    "    tries = Structurize(M,NuA[0],NuC[0],NuA,NuC,N)\n",
    "    M,iters=RunSznajdStruc(M,N,50000,1,20000)\n",
    "    Winner,Actives,Winby = Elect(M)\n",
    "    Winners=np.add(Winners,Winner)\n",
    "    Winbyy=Winbyy+Winby\n",
    "    Time=Time+iters\n",
    "    MeanTries=MeanTries+tries\n",
    "\n",
    "Winners=np.array(Winners)/runs\n",
    "Winbyy=Winbyy/runs\n",
    "Time=Time/runs\n",
    "MeanTries=MeanTries/runs\n",
    "print(Winners,Winbyy,Time,MeanTries)"
   ]
  },
  {
   "cell_type": "code",
   "execution_count": null,
   "id": "2daf196a",
   "metadata": {},
   "outputs": [],
   "source": []
  }
 ],
 "metadata": {
  "kernelspec": {
   "display_name": "Python 3 (ipykernel)",
   "language": "python",
   "name": "python3"
  },
  "language_info": {
   "codemirror_mode": {
    "name": "ipython",
    "version": 3
   },
   "file_extension": ".py",
   "mimetype": "text/x-python",
   "name": "python",
   "nbconvert_exporter": "python",
   "pygments_lexer": "ipython3",
   "version": "3.8.5"
  }
 },
 "nbformat": 4,
 "nbformat_minor": 5
}
